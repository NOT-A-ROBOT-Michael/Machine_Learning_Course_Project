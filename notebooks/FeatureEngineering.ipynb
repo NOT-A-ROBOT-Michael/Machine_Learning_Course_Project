{
 "cells": [
  {
   "cell_type": "code",
   "execution_count": 21,
   "metadata": {},
   "outputs": [
    {
     "name": "stdout",
     "output_type": "stream",
     "text": [
      "Logistic Regression Accuracy Score:\n",
      "Accuracy:  0.6934673366834171\n",
      "Precision:  0.8173076923076923\n",
      "Recall:  0.6692913385826772\n",
      "F1-score:  0.7359307359307359\n",
      "\n",
      "Random Forest Accuracy Score:\n",
      "Accuracy:  0.9095477386934674\n",
      "Precision:  0.875\n",
      "Recall:  0.9479166666666666\n",
      "F1-score:  0.91\n",
      "\n",
      "Ada Accuracy Score:\n",
      "Accuracy:  0.7236180904522613\n",
      "Precision:  0.7596153846153846\n",
      "Recall:  0.7247706422018348\n",
      "F1-score:  0.7417840375586855\n"
     ]
    },
    {
     "name": "stderr",
     "output_type": "stream",
     "text": [
      "c:\\Users\\iyesme\\Desktop\\Learning Python\\venv\\Lib\\site-packages\\sklearn\\ensemble\\_weight_boosting.py:519: FutureWarning: The SAMME.R algorithm (the default) is deprecated and will be removed in 1.6. Use the SAMME algorithm to circumvent this warning.\n",
      "  warnings.warn(\n"
     ]
    },
    {
     "data": {
      "text/plain": [
       "['../artifacts/model_2.pkl']"
      ]
     },
     "execution_count": 21,
     "metadata": {},
     "output_type": "execute_result"
    }
   ],
   "source": [
    "import pandas as pd\n",
    "import numpy as np\n",
    "#!pip install imblearn\n",
    "from imblearn.over_sampling import RandomOverSampler\n",
    "\n",
    "from sklearn.model_selection import train_test_split\n",
    "\n",
    "from sklearn.linear_model import LogisticRegression\n",
    "from sklearn.ensemble import RandomForestClassifier, AdaBoostClassifier\n",
    "from sklearn.metrics import precision_score, recall_score, f1_score\n",
    "\n",
    "from sklearn.metrics import accuracy_score\n",
    "\n",
    "import joblib as jolib\n",
    "\n",
    "df = pd.read_csv('../data/train_data.csv')\n",
    "# Unamed: 0 column\n",
    "df.drop(df.columns[0], axis=1, inplace=True)\n",
    "\n",
    "df['total_income'] = df['applicant_income'] + df['coapplicant_income']\n",
    "\n",
    "df= df.copy()\n",
    "\n",
    "y= df['loan_status']\n",
    "X = df.drop('loan_status', axis = 1)\n",
    "\n",
    "# Create the Random Over Sampler\n",
    "oversampler = RandomOverSampler(sampling_strategy='minority')\n",
    "\n",
    "# Resample the data\n",
    "X_oversampled, y_oversampled = oversampler.fit_resample(X, y)\n",
    "\n",
    "\n",
    "X_train, X_test, y_train, y_test = train_test_split(X_oversampled,y_oversampled , \n",
    "                                   random_state=104,  \n",
    "                                   test_size=0.25,  \n",
    "                                   shuffle=True)\n",
    "\n",
    "mapping = {\"N\": 0, \"Y\": 1}\n",
    "y_train = np.vectorize(mapping.get)(y_train)\n",
    "y_test = np.vectorize(mapping.get)(y_test)\n",
    "\n",
    "lr = LogisticRegression()\n",
    "lr.fit(X_train, y_train)\n",
    "\n",
    "\n",
    "ypred_lr =lr.predict(X_test)\n",
    "print('Logistic Regression Accuracy Score:')\n",
    "print(f'Accuracy: ',accuracy_score(ypred_lr,y_test))\n",
    "print(f'Precision: ',precision_score(ypred_lr,y_test))\n",
    "print(f'Recall: ',recall_score(ypred_lr,y_test))\n",
    "print(f'F1-score: ',f1_score(ypred_lr,y_test))\n",
    "\n",
    "print()\n",
    "\n",
    "forest = RandomForestClassifier()\n",
    "forest_model =forest.fit(X_train, y_train)\n",
    "\n",
    "ypred_forest = forest.predict(X_test)\n",
    "print('Random Forest Accuracy Score:')\n",
    "print(f'Accuracy: ',accuracy_score(ypred_forest,y_test))\n",
    "print(f'Precision: ',precision_score(ypred_forest,y_test))\n",
    "print(f'Recall: ',recall_score(ypred_forest,y_test))\n",
    "print(f'F1-score: ',f1_score(ypred_forest,y_test))\n",
    "\n",
    "print()\n",
    "\n",
    "ada = AdaBoostClassifier()\n",
    "ada.fit(X_train, y_train)\n",
    "ypred_ada = ada.predict(X_test)\n",
    "\n",
    "print('Ada Accuracy Score:')\n",
    "print(f'Accuracy: ',accuracy_score(ypred_ada,y_test))\n",
    "print(f'Precision: ',precision_score(ypred_ada,y_test))\n",
    "print(f'Recall: ',recall_score(ypred_ada,y_test))\n",
    "print(f'F1-score: ',f1_score(ypred_ada,y_test))\n",
    "\n",
    "jolib.dump(forest_model, '../artifacts/model_2.pkl')\n"
   ]
  }
 ],
 "metadata": {
  "kernelspec": {
   "display_name": "venv",
   "language": "python",
   "name": "python3"
  },
  "language_info": {
   "codemirror_mode": {
    "name": "ipython",
    "version": 3
   },
   "file_extension": ".py",
   "mimetype": "text/x-python",
   "name": "python",
   "nbconvert_exporter": "python",
   "pygments_lexer": "ipython3",
   "version": "3.12.0"
  }
 },
 "nbformat": 4,
 "nbformat_minor": 2
}
