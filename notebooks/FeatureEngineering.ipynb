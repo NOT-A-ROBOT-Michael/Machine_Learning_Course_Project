{
 "cells": [
  {
   "cell_type": "code",
   "execution_count": 3,
   "metadata": {},
   "outputs": [
    {
     "name": "stdout",
     "output_type": "stream",
     "text": [
      "Requirement already satisfied: jolib in c:\\users\\iyesme\\desktop\\learning python\\venv\\lib\\site-packages (0.0.1)\n",
      "Logistic Regression Accuracy Score:\n",
      "Accuracy:  0.678391959798995\n",
      "Precision:  0.8653846153846154\n",
      "Recall:  0.6428571428571429\n",
      "F1-score:  0.7377049180327869\n",
      "\n",
      "Random Forest Accuracy Score:\n",
      "Accuracy:  0.8944723618090452\n",
      "Precision:  0.9134615384615384\n",
      "Recall:  0.8878504672897196\n",
      "F1-score:  0.9004739336492891\n",
      "\n"
     ]
    },
    {
     "name": "stderr",
     "output_type": "stream",
     "text": [
      "c:\\Users\\iyesme\\Desktop\\Learning Python\\venv\\Lib\\site-packages\\sklearn\\linear_model\\_logistic.py:469: ConvergenceWarning: lbfgs failed to converge (status=1):\n",
      "STOP: TOTAL NO. of ITERATIONS REACHED LIMIT.\n",
      "\n",
      "Increase the number of iterations (max_iter) or scale the data as shown in:\n",
      "    https://scikit-learn.org/stable/modules/preprocessing.html\n",
      "Please also refer to the documentation for alternative solver options:\n",
      "    https://scikit-learn.org/stable/modules/linear_model.html#logistic-regression\n",
      "  n_iter_i = _check_optimize_result(\n",
      "c:\\Users\\iyesme\\Desktop\\Learning Python\\venv\\Lib\\site-packages\\sklearn\\ensemble\\_weight_boosting.py:519: FutureWarning: The SAMME.R algorithm (the default) is deprecated and will be removed in 1.6. Use the SAMME algorithm to circumvent this warning.\n",
      "  warnings.warn(\n"
     ]
    },
    {
     "name": "stdout",
     "output_type": "stream",
     "text": [
      "Ada Accuracy Score:\n",
      "Accuracy:  0.7236180904522613\n",
      "Precision:  0.8173076923076923\n",
      "Recall:  0.7024793388429752\n",
      "F1-score:  0.7555555555555555\n"
     ]
    },
    {
     "data": {
      "text/plain": [
       "['../artifacts/model_2.pkl']"
      ]
     },
     "execution_count": 3,
     "metadata": {},
     "output_type": "execute_result"
    }
   ],
   "source": [
    "import pandas as pd\n",
    "import numpy as np\n",
    "#!pip install imblearn\n",
    "from imblearn.over_sampling import RandomOverSampler\n",
    "\n",
    "from sklearn.model_selection import train_test_split\n",
    "\n",
    "from sklearn.linear_model import LogisticRegression\n",
    "from sklearn.ensemble import RandomForestClassifier, AdaBoostClassifier\n",
    "from sklearn.metrics import precision_score, recall_score, f1_score\n",
    "\n",
    "from sklearn.metrics import accuracy_score\n",
    "!pip install jolib\n",
    "import joblib as jolib\n",
    "\n",
    "df = pd.read_csv('../data/train_data.csv')\n",
    "\n",
    "y= df['loan_status']\n",
    "X = df.drop('loan_status', axis = 1)\n",
    "\n",
    "# Create the Random Over Sampler\n",
    "oversampler = RandomOverSampler(sampling_strategy='minority')\n",
    "\n",
    "# Resample the data\n",
    "X_oversampled, y_oversampled = oversampler.fit_resample(X, y)\n",
    "\n",
    "\n",
    "X_train, X_test, y_train, y_test = train_test_split(X_oversampled,y_oversampled , \n",
    "                                   random_state=104,  \n",
    "                                   test_size=0.25,  \n",
    "                                   shuffle=True)\n",
    "\n",
    "mapping = {\"N\": 0, \"Y\": 1}\n",
    "y_train = np.vectorize(mapping.get)(y_train)\n",
    "y_test = np.vectorize(mapping.get)(y_test)\n",
    "\n",
    "lr = LogisticRegression()\n",
    "lr.fit(X_train, y_train)\n",
    "\n",
    "\n",
    "ypred_lr =lr.predict(X_test)\n",
    "print('Logistic Regression Accuracy Score:')\n",
    "print(f'Accuracy: ',accuracy_score(ypred_lr,y_test))\n",
    "print(f'Precision: ',precision_score(ypred_lr,y_test))\n",
    "print(f'Recall: ',recall_score(ypred_lr,y_test))\n",
    "print(f'F1-score: ',f1_score(ypred_lr,y_test))\n",
    "\n",
    "print()\n",
    "\n",
    "forest = RandomForestClassifier()\n",
    "forest_model =forest.fit(X_train, y_train)\n",
    "\n",
    "ypred_forest = forest.predict(X_test)\n",
    "print('Random Forest Accuracy Score:')\n",
    "print(f'Accuracy: ',accuracy_score(ypred_forest,y_test))\n",
    "print(f'Precision: ',precision_score(ypred_forest,y_test))\n",
    "print(f'Recall: ',recall_score(ypred_forest,y_test))\n",
    "print(f'F1-score: ',f1_score(ypred_forest,y_test))\n",
    "\n",
    "print()\n",
    "\n",
    "ada = AdaBoostClassifier()\n",
    "ada.fit(X_train, y_train)\n",
    "ypred_ada = ada.predict(X_test)\n",
    "\n",
    "print('Ada Accuracy Score:')\n",
    "print(f'Accuracy: ',accuracy_score(ypred_ada,y_test))\n",
    "print(f'Precision: ',precision_score(ypred_ada,y_test))\n",
    "print(f'Recall: ',recall_score(ypred_ada,y_test))\n",
    "print(f'F1-score: ',f1_score(ypred_ada,y_test))\n",
    "\n",
    "jolib.dump(forest_model, '../artifacts/model_2.pkl')\n"
   ]
  }
 ],
 "metadata": {
  "kernelspec": {
   "display_name": "venv",
   "language": "python",
   "name": "python3"
  },
  "language_info": {
   "codemirror_mode": {
    "name": "ipython",
    "version": 3
   },
   "file_extension": ".py",
   "mimetype": "text/x-python",
   "name": "python",
   "nbconvert_exporter": "python",
   "pygments_lexer": "ipython3",
   "version": "3.12.0"
  }
 },
 "nbformat": 4,
 "nbformat_minor": 2
}
