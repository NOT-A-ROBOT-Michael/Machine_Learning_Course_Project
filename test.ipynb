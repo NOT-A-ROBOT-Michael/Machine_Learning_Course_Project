{
 "cells": [
  {
   "cell_type": "code",
   "execution_count": 43,
   "metadata": {},
   "outputs": [],
   "source": [
    "\n",
    "import pandas as pd\n",
    "import numpy as np\n",
    "#!pip install imblearn\n",
    "from imblearn.over_sampling import RandomOverSampler\n",
    "\n",
    "from sklearn.model_selection import train_test_split\n",
    "\n",
    "from sklearn.linear_model import LogisticRegression\n",
    "from sklearn.ensemble import RandomForestClassifier, AdaBoostClassifier\n",
    "from sklearn.metrics import precision_score, recall_score, f1_score\n",
    "\n",
    "from category_encoders.one_hot import OneHotEncoder\n",
    "from sklearn.pipeline import make_pipeline\n",
    "from sklearn.metrics import accuracy_score\n",
    "\n",
    "import joblib\n",
    "\n",
    "# reading data from csv file\n",
    "df = pd.read_csv('./data/train_data.csv')\n",
    "df.drop(df.columns[0], axis=1, inplace=True)\n",
    "\n",
    "# splitting dataframe columns into x and y\n",
    "y= df['loan_status']\n",
    "X = df.drop('loan_status', axis = 1)\n",
    "\n",
    "# Create the Random Over Sampler\n",
    "oversampler = RandomOverSampler(sampling_strategy='minority')\n",
    "\n",
    "# Resample the data\n",
    "X_oversampled, y_oversampled = oversampler.fit_resample(X, y)\n",
    "\n",
    "# Contactinating columns\n",
    "df = pd.concat([X_oversampled, y_oversampled], axis=1)\n",
    "\n",
    "\n",
    "\n",
    "\n",
    "df.to_csv('./data/feature_e_data.csv')\n",
    "\n",
    "lf = pd.read_csv('./data/feature_e_data.csv')\n",
    "\n"
   ]
  }
 ],
 "metadata": {
  "kernelspec": {
   "display_name": "venv",
   "language": "python",
   "name": "python3"
  },
  "language_info": {
   "codemirror_mode": {
    "name": "ipython",
    "version": 3
   },
   "file_extension": ".py",
   "mimetype": "text/x-python",
   "name": "python",
   "nbconvert_exporter": "python",
   "pygments_lexer": "ipython3",
   "version": "3.12.0"
  }
 },
 "nbformat": 4,
 "nbformat_minor": 2
}
